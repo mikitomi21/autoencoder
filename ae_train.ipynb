{
 "cells": [
  {
   "cell_type": "code",
   "execution_count": 1,
   "id": "initial_id",
   "metadata": {
    "collapsed": true,
    "ExecuteTime": {
     "end_time": "2023-12-06T14:00:24.922276600Z",
     "start_time": "2023-12-06T14:00:22.529606200Z"
    }
   },
   "outputs": [
    {
     "name": "stdout",
     "output_type": "stream",
     "text": [
      "WARNING:tensorflow:From C:\\Users\\kubas\\AppData\\Local\\Programs\\Python\\Python311\\Lib\\site-packages\\keras\\src\\losses.py:2976: The name tf.losses.sparse_softmax_cross_entropy is deprecated. Please use tf.compat.v1.losses.sparse_softmax_cross_entropy instead.\n"
     ]
    }
   ],
   "source": [
    "import tensorflow\n",
    "import numpy\n",
    "import os\n",
    "from models.AE import AE\n",
    "from utils.loaders import load_data"
   ]
  },
  {
   "cell_type": "code",
   "execution_count": 2,
   "outputs": [],
   "source": [
    "FOLDER = 'saves'"
   ],
   "metadata": {
    "collapsed": false,
    "ExecuteTime": {
     "end_time": "2023-12-06T14:00:24.924785Z",
     "start_time": "2023-12-06T14:00:24.921275600Z"
    }
   },
   "id": "2b3f463259610878"
  },
  {
   "cell_type": "code",
   "execution_count": 3,
   "outputs": [],
   "source": [
    "(x_train, y_train), (x_test, y_test) = load_data()"
   ],
   "metadata": {
    "collapsed": false,
    "ExecuteTime": {
     "end_time": "2023-12-06T14:00:25.155147500Z",
     "start_time": "2023-12-06T14:00:24.924785Z"
    }
   },
   "id": "1662dd3b40433d25"
  },
  {
   "cell_type": "code",
   "execution_count": 4,
   "outputs": [
    {
     "name": "stdout",
     "output_type": "stream",
     "text": [
      "WARNING:tensorflow:From C:\\Users\\kubas\\AppData\\Local\\Programs\\Python\\Python311\\Lib\\site-packages\\keras\\src\\backend.py:1398: The name tf.executing_eagerly_outside_functions is deprecated. Please use tf.compat.v1.executing_eagerly_outside_functions instead.\n",
      "WARNING:tensorflow:From C:\\Users\\kubas\\AppData\\Local\\Programs\\Python\\Python311\\Lib\\site-packages\\keras\\src\\layers\\normalization\\batch_normalization.py:979: The name tf.nn.fused_batch_norm is deprecated. Please use tf.compat.v1.nn.fused_batch_norm instead.\n"
     ]
    }
   ],
   "source": [
    "ae = AE(\n",
    "    input_dim=(28,28,1),\n",
    "    encoder_filters=[32,64,64,32],\n",
    "    encoder_kernel_size=[2,3,3,2],\n",
    "    encoder_strides=[1,2,2,1],\n",
    "    decoder_filters=[32,64,64,32],\n",
    "    decoder_kernel_size=[2,3,3,2],\n",
    "    decoder_strides=[1,2,2,1],\n",
    "    z_dim=2\n",
    ")"
   ],
   "metadata": {
    "collapsed": false,
    "ExecuteTime": {
     "end_time": "2023-12-06T14:00:25.422442300Z",
     "start_time": "2023-12-06T14:00:25.156607Z"
    }
   },
   "id": "fde05a958de68ca8"
  },
  {
   "cell_type": "code",
   "execution_count": 5,
   "outputs": [
    {
     "name": "stdout",
     "output_type": "stream",
     "text": [
      "You must install pydot (`pip install pydot`) and install graphviz (see instructions at https://graphviz.gitlab.io/download/) for plot_model to work.\n",
      "You must install pydot (`pip install pydot`) and install graphviz (see instructions at https://graphviz.gitlab.io/download/) for plot_model to work.\n",
      "You must install pydot (`pip install pydot`) and install graphviz (see instructions at https://graphviz.gitlab.io/download/) for plot_model to work.\n"
     ]
    }
   ],
   "source": [
    "def get_mode(folder):\n",
    "    return True\n",
    "    # return os.path.exists(folder + 'weights')\n",
    "\n",
    "if get_mode(FOLDER):\n",
    "    ae.save(FOLDER)\n",
    "else:\n",
    "    ae.load_weights(os.path.join(FOLDER, 'weights/weights.h5'))"
   ],
   "metadata": {
    "collapsed": false,
    "ExecuteTime": {
     "end_time": "2023-12-06T14:00:25.440717Z",
     "start_time": "2023-12-06T14:00:25.423950400Z"
    }
   },
   "id": "1418b076bbb4dbc8"
  },
  {
   "cell_type": "code",
   "execution_count": 6,
   "outputs": [
    {
     "name": "stdout",
     "output_type": "stream",
     "text": [
      "Model: \"model\"\n",
      "_________________________________________________________________\n",
      " Layer (type)                Output Shape              Param #   \n",
      "=================================================================\n",
      " encoder_input (InputLayer)  [(None, 28, 28, 1)]       0         \n",
      "                                                                 \n",
      " conv_layer0 (Conv2D)        (None, 28, 28, 32)        160       \n",
      "                                                                 \n",
      " batch_normalization (Batch  (None, 28, 28, 32)        128       \n",
      " Normalization)                                                  \n",
      "                                                                 \n",
      " leaky_re_lu (LeakyReLU)     (None, 28, 28, 32)        0         \n",
      "                                                                 \n",
      " dropout (Dropout)           (None, 28, 28, 32)        0         \n",
      "                                                                 \n",
      " conv_layer1 (Conv2D)        (None, 14, 14, 64)        18496     \n",
      "                                                                 \n",
      " batch_normalization_1 (Bat  (None, 14, 14, 64)        256       \n",
      " chNormalization)                                                \n",
      "                                                                 \n",
      " leaky_re_lu_1 (LeakyReLU)   (None, 14, 14, 64)        0         \n",
      "                                                                 \n",
      " dropout_1 (Dropout)         (None, 14, 14, 64)        0         \n",
      "                                                                 \n",
      " conv_layer2 (Conv2D)        (None, 7, 7, 64)          36928     \n",
      "                                                                 \n",
      " batch_normalization_2 (Bat  (None, 7, 7, 64)          256       \n",
      " chNormalization)                                                \n",
      "                                                                 \n",
      " leaky_re_lu_2 (LeakyReLU)   (None, 7, 7, 64)          0         \n",
      "                                                                 \n",
      " dropout_2 (Dropout)         (None, 7, 7, 64)          0         \n",
      "                                                                 \n",
      " conv_layer3 (Conv2D)        (None, 7, 7, 32)          8224      \n",
      "                                                                 \n",
      " batch_normalization_3 (Bat  (None, 7, 7, 32)          128       \n",
      " chNormalization)                                                \n",
      "                                                                 \n",
      " leaky_re_lu_3 (LeakyReLU)   (None, 7, 7, 32)          0         \n",
      "                                                                 \n",
      " dropout_3 (Dropout)         (None, 7, 7, 32)          0         \n",
      "                                                                 \n",
      " flatten (Flatten)           (None, 1568)              0         \n",
      "                                                                 \n",
      " encoder_output (Dense)      (None, 2)                 3138      \n",
      "                                                                 \n",
      "=================================================================\n",
      "Total params: 67714 (264.51 KB)\n",
      "Trainable params: 67330 (263.01 KB)\n",
      "Non-trainable params: 384 (1.50 KB)\n",
      "_________________________________________________________________\n"
     ]
    }
   ],
   "source": [
    "ae.encoder.summary()"
   ],
   "metadata": {
    "collapsed": false,
    "ExecuteTime": {
     "end_time": "2023-12-06T14:00:25.451474800Z",
     "start_time": "2023-12-06T14:00:25.429205700Z"
    }
   },
   "id": "9886764d9d5b5724"
  },
  {
   "cell_type": "code",
   "execution_count": 7,
   "outputs": [
    {
     "name": "stdout",
     "output_type": "stream",
     "text": [
      "Model: \"model_1\"\n",
      "_________________________________________________________________\n",
      " Layer (type)                Output Shape              Param #   \n",
      "=================================================================\n",
      " decoder_input (InputLayer)  [(None, 2)]               0         \n",
      "                                                                 \n",
      " dense (Dense)               (None, 1568)              4704      \n",
      "                                                                 \n",
      " reshape (Reshape)           (None, 7, 7, 32)          0         \n",
      "                                                                 \n",
      " conv_layer0 (Conv2DTranspo  (None, 7, 7, 32)          4128      \n",
      " se)                                                             \n",
      "                                                                 \n",
      " batch_normalization_4 (Bat  (None, 7, 7, 32)          128       \n",
      " chNormalization)                                                \n",
      "                                                                 \n",
      " leaky_re_lu_4 (LeakyReLU)   (None, 7, 7, 32)          0         \n",
      "                                                                 \n",
      " dropout_4 (Dropout)         (None, 7, 7, 32)          0         \n",
      "                                                                 \n",
      " conv_layer1 (Conv2DTranspo  (None, 14, 14, 64)        18496     \n",
      " se)                                                             \n",
      "                                                                 \n",
      " batch_normalization_5 (Bat  (None, 14, 14, 64)        256       \n",
      " chNormalization)                                                \n",
      "                                                                 \n",
      " leaky_re_lu_5 (LeakyReLU)   (None, 14, 14, 64)        0         \n",
      "                                                                 \n",
      " dropout_5 (Dropout)         (None, 14, 14, 64)        0         \n",
      "                                                                 \n",
      " conv_layer2 (Conv2DTranspo  (None, 28, 28, 64)        36928     \n",
      " se)                                                             \n",
      "                                                                 \n",
      " batch_normalization_6 (Bat  (None, 28, 28, 64)        256       \n",
      " chNormalization)                                                \n",
      "                                                                 \n",
      " leaky_re_lu_6 (LeakyReLU)   (None, 28, 28, 64)        0         \n",
      "                                                                 \n",
      " dropout_6 (Dropout)         (None, 28, 28, 64)        0         \n",
      "                                                                 \n",
      " conv_layer3 (Conv2DTranspo  (None, 28, 28, 32)        8224      \n",
      " se)                                                             \n",
      "                                                                 \n",
      " activation (Activation)     (None, 28, 28, 32)        0         \n",
      "                                                                 \n",
      "=================================================================\n",
      "Total params: 73120 (285.62 KB)\n",
      "Trainable params: 72800 (284.38 KB)\n",
      "Non-trainable params: 320 (1.25 KB)\n",
      "_________________________________________________________________\n"
     ]
    }
   ],
   "source": [
    "ae.decoder.summary()"
   ],
   "metadata": {
    "collapsed": false,
    "ExecuteTime": {
     "end_time": "2023-12-06T14:00:25.486251700Z",
     "start_time": "2023-12-06T14:00:25.447475300Z"
    }
   },
   "id": "eceb7be76b6733c1"
  },
  {
   "cell_type": "code",
   "execution_count": 8,
   "outputs": [],
   "source": [
    "LEARNING_RATE = 0.001\n",
    "BATCH_SIZE = 32\n",
    "EPOCHS = 10\n",
    "SHUFFLE = True"
   ],
   "metadata": {
    "collapsed": false,
    "ExecuteTime": {
     "end_time": "2023-12-06T14:00:25.486251700Z",
     "start_time": "2023-12-06T14:00:25.466171600Z"
    }
   },
   "id": "ce7fdd9a3f427326"
  },
  {
   "cell_type": "code",
   "execution_count": 9,
   "outputs": [
    {
     "name": "stdout",
     "output_type": "stream",
     "text": [
      "Epoch 1/10\n",
      "WARNING:tensorflow:From C:\\Users\\kubas\\AppData\\Local\\Programs\\Python\\Python311\\Lib\\site-packages\\keras\\src\\utils\\tf_utils.py:492: The name tf.ragged.RaggedTensorValue is deprecated. Please use tf.compat.v1.ragged.RaggedTensorValue instead.\n",
      "WARNING:tensorflow:From C:\\Users\\kubas\\AppData\\Local\\Programs\\Python\\Python311\\Lib\\site-packages\\keras\\src\\engine\\base_layer_utils.py:384: The name tf.executing_eagerly_outside_functions is deprecated. Please use tf.compat.v1.executing_eagerly_outside_functions instead.\n",
      "155/157 [============================>.] - ETA: 0s - loss: 0.0829 - accuracy: 0.0167\n",
      "Epoch 1: saving model to saves\\weights\\weights.h5\n",
      "157/157 [==============================] - 5s 23ms/step - loss: 0.0828 - accuracy: 0.0167\n",
      "Epoch 2/10\n",
      "157/157 [==============================] - ETA: 0s - loss: 0.0588 - accuracy: 0.0201\n",
      "Epoch 2: saving model to saves\\weights\\weights.h5\n",
      "157/157 [==============================] - 4s 23ms/step - loss: 0.0588 - accuracy: 0.0201\n",
      "Epoch 3/10\n",
      "156/157 [============================>.] - ETA: 0s - loss: 0.0568 - accuracy: 0.0213\n",
      "Epoch 3: saving model to saves\\weights\\weights.h5\n",
      "157/157 [==============================] - 4s 23ms/step - loss: 0.0568 - accuracy: 0.0213\n",
      "Epoch 4/10\n",
      "157/157 [==============================] - ETA: 0s - loss: 0.0555 - accuracy: 0.0221\n",
      "Epoch 4: saving model to saves\\weights\\weights.h5\n",
      "157/157 [==============================] - 4s 23ms/step - loss: 0.0555 - accuracy: 0.0221\n",
      "Epoch 5/10\n",
      "157/157 [==============================] - ETA: 0s - loss: 0.0544 - accuracy: 0.0218\n",
      "Epoch 5: saving model to saves\\weights\\weights.h5\n",
      "157/157 [==============================] - 4s 22ms/step - loss: 0.0544 - accuracy: 0.0218\n",
      "Epoch 6/10\n",
      "157/157 [==============================] - ETA: 0s - loss: 0.0537 - accuracy: 0.0220\n",
      "Epoch 6: saving model to saves\\weights\\weights.h5\n",
      "157/157 [==============================] - 4s 22ms/step - loss: 0.0537 - accuracy: 0.0220\n",
      "Epoch 7/10\n",
      "156/157 [============================>.] - ETA: 0s - loss: 0.0531 - accuracy: 0.0227\n",
      "Epoch 7: saving model to saves\\weights\\weights.h5\n",
      "157/157 [==============================] - 4s 23ms/step - loss: 0.0531 - accuracy: 0.0227\n",
      "Epoch 8/10\n",
      "157/157 [==============================] - ETA: 0s - loss: 0.0527 - accuracy: 0.0241\n",
      "Epoch 8: saving model to saves\\weights\\weights.h5\n",
      "157/157 [==============================] - 4s 23ms/step - loss: 0.0527 - accuracy: 0.0241\n",
      "Epoch 9/10\n",
      "157/157 [==============================] - ETA: 0s - loss: 0.0522 - accuracy: 0.0254\n",
      "Epoch 9: saving model to saves\\weights\\weights.h5\n",
      "157/157 [==============================] - 4s 23ms/step - loss: 0.0522 - accuracy: 0.0254\n",
      "Epoch 10/10\n",
      "156/157 [============================>.] - ETA: 0s - loss: 0.0520 - accuracy: 0.0240\n",
      "Epoch 10: saving model to saves\\weights\\weights.h5\n",
      "157/157 [==============================] - 4s 23ms/step - loss: 0.0520 - accuracy: 0.0240\n"
     ]
    }
   ],
   "source": [
    "ae.compile(LEARNING_RATE)\n",
    "ae.train(\n",
    "    x_train[:5000],\n",
    "    batch_size=BATCH_SIZE,\n",
    "    epochs=EPOCHS,\n",
    "    shuffle=SHUFFLE,\n",
    "    run_folder=FOLDER\n",
    ")"
   ],
   "metadata": {
    "collapsed": false,
    "ExecuteTime": {
     "end_time": "2023-12-06T14:01:02.765100900Z",
     "start_time": "2023-12-06T14:00:25.467175700Z"
    }
   },
   "id": "d5f74b0230fa0742"
  }
 ],
 "metadata": {
  "kernelspec": {
   "display_name": "Python 3",
   "language": "python",
   "name": "python3"
  },
  "language_info": {
   "codemirror_mode": {
    "name": "ipython",
    "version": 2
   },
   "file_extension": ".py",
   "mimetype": "text/x-python",
   "name": "python",
   "nbconvert_exporter": "python",
   "pygments_lexer": "ipython2",
   "version": "2.7.6"
  }
 },
 "nbformat": 4,
 "nbformat_minor": 5
}
