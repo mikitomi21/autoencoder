{
 "cells": [
  {
   "cell_type": "code",
   "execution_count": 1,
   "id": "initial_id",
   "metadata": {
    "collapsed": true,
    "ExecuteTime": {
     "end_time": "2023-12-06T12:09:09.523371700Z",
     "start_time": "2023-12-06T12:09:07.248718800Z"
    }
   },
   "outputs": [
    {
     "name": "stdout",
     "output_type": "stream",
     "text": [
      "WARNING:tensorflow:From C:\\Users\\kubas\\AppData\\Local\\Programs\\Python\\Python311\\Lib\\site-packages\\keras\\src\\losses.py:2976: The name tf.losses.sparse_softmax_cross_entropy is deprecated. Please use tf.compat.v1.losses.sparse_softmax_cross_entropy instead.\n"
     ]
    }
   ],
   "source": [
    "import tensorflow\n",
    "import numpy\n",
    "import os\n",
    "from models.VAE import AE\n",
    "from utils.loaders import load_data"
   ]
  },
  {
   "cell_type": "code",
   "execution_count": 2,
   "outputs": [],
   "source": [
    "FOLDER = 'saves'"
   ],
   "metadata": {
    "collapsed": false,
    "ExecuteTime": {
     "end_time": "2023-12-06T12:09:09.528661100Z",
     "start_time": "2023-12-06T12:09:09.524405700Z"
    }
   },
   "id": "2b3f463259610878"
  },
  {
   "cell_type": "code",
   "execution_count": 3,
   "outputs": [],
   "source": [
    "(x_train, y_train), (x_test, y_test) = load_data()"
   ],
   "metadata": {
    "collapsed": false,
    "ExecuteTime": {
     "end_time": "2023-12-06T12:09:09.746540700Z",
     "start_time": "2023-12-06T12:09:09.526661100Z"
    }
   },
   "id": "1662dd3b40433d25"
  },
  {
   "cell_type": "code",
   "execution_count": 4,
   "outputs": [
    {
     "name": "stdout",
     "output_type": "stream",
     "text": [
      "WARNING:tensorflow:From C:\\Users\\kubas\\AppData\\Local\\Programs\\Python\\Python311\\Lib\\site-packages\\keras\\src\\backend.py:1398: The name tf.executing_eagerly_outside_functions is deprecated. Please use tf.compat.v1.executing_eagerly_outside_functions instead.\n",
      "WARNING:tensorflow:From C:\\Users\\kubas\\AppData\\Local\\Programs\\Python\\Python311\\Lib\\site-packages\\keras\\src\\layers\\normalization\\batch_normalization.py:979: The name tf.nn.fused_batch_norm is deprecated. Please use tf.compat.v1.nn.fused_batch_norm instead.\n"
     ]
    }
   ],
   "source": [
    "ae = AE(\n",
    "    input_dim=(28,28,1),\n",
    "    encoder_filters=[32,64,64,32],\n",
    "    encoder_kernel_size=[2,3,3,2],\n",
    "    encoder_strides=[1,2,2,1],\n",
    "    decoder_filters=[32,64,64,32],\n",
    "    decoder_kernel_size=[2,3,3,2],\n",
    "    decoder_strides=[1,2,2,1],\n",
    "    z_dim=2\n",
    ")"
   ],
   "metadata": {
    "collapsed": false,
    "ExecuteTime": {
     "end_time": "2023-12-06T12:09:10.006098300Z",
     "start_time": "2023-12-06T12:09:09.747541700Z"
    }
   },
   "id": "fde05a958de68ca8"
  },
  {
   "cell_type": "code",
   "execution_count": 5,
   "outputs": [],
   "source": [
    "def get_mode(folder):\n",
    "    return os.path.exists(folder + 'weights')\n",
    "\n",
    "if get_mode(FOLDER):\n",
    "    ae.save(FOLDER)\n",
    "else:\n",
    "    ae.load_weights(os.path.join(FOLDER, 'weights/weights.h5'))"
   ],
   "metadata": {
    "collapsed": false,
    "ExecuteTime": {
     "end_time": "2023-12-06T12:09:10.027087800Z",
     "start_time": "2023-12-06T12:09:10.007099Z"
    }
   },
   "id": "1418b076bbb4dbc8"
  },
  {
   "cell_type": "code",
   "execution_count": 6,
   "outputs": [
    {
     "name": "stdout",
     "output_type": "stream",
     "text": [
      "Model: \"model\"\n",
      "_________________________________________________________________\n",
      " Layer (type)                Output Shape              Param #   \n",
      "=================================================================\n",
      " encoder_input (InputLayer)  [(None, 28, 28, 1)]       0         \n",
      "                                                                 \n",
      " conv_layer0 (Conv2D)        (None, 28, 28, 32)        160       \n",
      "                                                                 \n",
      " batch_normalization (Batch  (None, 28, 28, 32)        128       \n",
      " Normalization)                                                  \n",
      "                                                                 \n",
      " leaky_re_lu (LeakyReLU)     (None, 28, 28, 32)        0         \n",
      "                                                                 \n",
      " dropout (Dropout)           (None, 28, 28, 32)        0         \n",
      "                                                                 \n",
      " conv_layer1 (Conv2D)        (None, 14, 14, 64)        18496     \n",
      "                                                                 \n",
      " batch_normalization_1 (Bat  (None, 14, 14, 64)        256       \n",
      " chNormalization)                                                \n",
      "                                                                 \n",
      " leaky_re_lu_1 (LeakyReLU)   (None, 14, 14, 64)        0         \n",
      "                                                                 \n",
      " dropout_1 (Dropout)         (None, 14, 14, 64)        0         \n",
      "                                                                 \n",
      " conv_layer2 (Conv2D)        (None, 7, 7, 64)          36928     \n",
      "                                                                 \n",
      " batch_normalization_2 (Bat  (None, 7, 7, 64)          256       \n",
      " chNormalization)                                                \n",
      "                                                                 \n",
      " leaky_re_lu_2 (LeakyReLU)   (None, 7, 7, 64)          0         \n",
      "                                                                 \n",
      " dropout_2 (Dropout)         (None, 7, 7, 64)          0         \n",
      "                                                                 \n",
      " conv_layer3 (Conv2D)        (None, 7, 7, 32)          8224      \n",
      "                                                                 \n",
      " batch_normalization_3 (Bat  (None, 7, 7, 32)          128       \n",
      " chNormalization)                                                \n",
      "                                                                 \n",
      " leaky_re_lu_3 (LeakyReLU)   (None, 7, 7, 32)          0         \n",
      "                                                                 \n",
      " dropout_3 (Dropout)         (None, 7, 7, 32)          0         \n",
      "                                                                 \n",
      " flatten (Flatten)           (None, 1568)              0         \n",
      "                                                                 \n",
      " encoder_output (Dense)      (None, 2)                 3138      \n",
      "                                                                 \n",
      "=================================================================\n",
      "Total params: 67714 (264.51 KB)\n",
      "Trainable params: 67330 (263.01 KB)\n",
      "Non-trainable params: 384 (1.50 KB)\n",
      "_________________________________________________________________\n"
     ]
    }
   ],
   "source": [
    "ae.encoder.summary()"
   ],
   "metadata": {
    "collapsed": false,
    "ExecuteTime": {
     "end_time": "2023-12-06T12:09:10.080352900Z",
     "start_time": "2023-12-06T12:09:10.027087800Z"
    }
   },
   "id": "9886764d9d5b5724"
  },
  {
   "cell_type": "code",
   "execution_count": 7,
   "outputs": [
    {
     "name": "stdout",
     "output_type": "stream",
     "text": [
      "Model: \"model_1\"\n",
      "_________________________________________________________________\n",
      " Layer (type)                Output Shape              Param #   \n",
      "=================================================================\n",
      " decoder_input (InputLayer)  [(None, 2)]               0         \n",
      "                                                                 \n",
      " dense (Dense)               (None, 1568)              4704      \n",
      "                                                                 \n",
      " reshape (Reshape)           (None, 7, 7, 32)          0         \n",
      "                                                                 \n",
      " conv_layer0 (Conv2DTranspo  (None, 7, 7, 32)          4128      \n",
      " se)                                                             \n",
      "                                                                 \n",
      " batch_normalization_4 (Bat  (None, 7, 7, 32)          128       \n",
      " chNormalization)                                                \n",
      "                                                                 \n",
      " leaky_re_lu_4 (LeakyReLU)   (None, 7, 7, 32)          0         \n",
      "                                                                 \n",
      " dropout_4 (Dropout)         (None, 7, 7, 32)          0         \n",
      "                                                                 \n",
      " conv_layer1 (Conv2DTranspo  (None, 14, 14, 64)        18496     \n",
      " se)                                                             \n",
      "                                                                 \n",
      " batch_normalization_5 (Bat  (None, 14, 14, 64)        256       \n",
      " chNormalization)                                                \n",
      "                                                                 \n",
      " leaky_re_lu_5 (LeakyReLU)   (None, 14, 14, 64)        0         \n",
      "                                                                 \n",
      " dropout_5 (Dropout)         (None, 14, 14, 64)        0         \n",
      "                                                                 \n",
      " conv_layer2 (Conv2DTranspo  (None, 28, 28, 64)        36928     \n",
      " se)                                                             \n",
      "                                                                 \n",
      " batch_normalization_6 (Bat  (None, 28, 28, 64)        256       \n",
      " chNormalization)                                                \n",
      "                                                                 \n",
      " leaky_re_lu_6 (LeakyReLU)   (None, 28, 28, 64)        0         \n",
      "                                                                 \n",
      " dropout_6 (Dropout)         (None, 28, 28, 64)        0         \n",
      "                                                                 \n",
      " conv_layer3 (Conv2DTranspo  (None, 28, 28, 32)        8224      \n",
      " se)                                                             \n",
      "                                                                 \n",
      " activation (Activation)     (None, 28, 28, 32)        0         \n",
      "                                                                 \n",
      "=================================================================\n",
      "Total params: 73120 (285.62 KB)\n",
      "Trainable params: 72800 (284.38 KB)\n",
      "Non-trainable params: 320 (1.25 KB)\n",
      "_________________________________________________________________\n"
     ]
    }
   ],
   "source": [
    "ae.decoder.summary()"
   ],
   "metadata": {
    "collapsed": false,
    "ExecuteTime": {
     "end_time": "2023-12-06T12:09:10.083352200Z",
     "start_time": "2023-12-06T12:09:10.045106500Z"
    }
   },
   "id": "eceb7be76b6733c1"
  },
  {
   "cell_type": "code",
   "execution_count": 8,
   "outputs": [],
   "source": [
    "LEARNING_RATE = 0.001\n",
    "BATCH_SIZE = 32\n",
    "EPOCHS = 10\n",
    "SHUFFLE = True"
   ],
   "metadata": {
    "collapsed": false,
    "ExecuteTime": {
     "end_time": "2023-12-06T12:09:10.083352200Z",
     "start_time": "2023-12-06T12:09:10.062120200Z"
    }
   },
   "id": "ce7fdd9a3f427326"
  },
  {
   "cell_type": "code",
   "execution_count": 9,
   "outputs": [
    {
     "name": "stdout",
     "output_type": "stream",
     "text": [
      "Epoch 1/10\n",
      "WARNING:tensorflow:From C:\\Users\\kubas\\AppData\\Local\\Programs\\Python\\Python311\\Lib\\site-packages\\keras\\src\\utils\\tf_utils.py:492: The name tf.ragged.RaggedTensorValue is deprecated. Please use tf.compat.v1.ragged.RaggedTensorValue instead.\n",
      "WARNING:tensorflow:From C:\\Users\\kubas\\AppData\\Local\\Programs\\Python\\Python311\\Lib\\site-packages\\keras\\src\\engine\\base_layer_utils.py:384: The name tf.executing_eagerly_outside_functions is deprecated. Please use tf.compat.v1.executing_eagerly_outside_functions instead.\n",
      "30/32 [===========================>..] - ETA: 0s - loss: 0.0546 - accuracy: 0.0233\n",
      "Epoch 1: saving model to saves\\weights\\weights.h5\n",
      "32/32 [==============================] - 2s 25ms/step - loss: 0.0545 - accuracy: 0.0234\n",
      "Epoch 2/10\n",
      "31/32 [============================>.] - ETA: 0s - loss: 0.0536 - accuracy: 0.0257\n",
      "Epoch 2: saving model to saves\\weights\\weights.h5\n",
      "32/32 [==============================] - 1s 23ms/step - loss: 0.0537 - accuracy: 0.0257\n",
      "Epoch 3/10\n",
      "31/32 [============================>.] - ETA: 0s - loss: 0.0534 - accuracy: 0.0243\n",
      "Epoch 3: saving model to saves\\weights\\weights.h5\n",
      "32/32 [==============================] - 1s 24ms/step - loss: 0.0534 - accuracy: 0.0243\n",
      "Epoch 4/10\n",
      "31/32 [============================>.] - ETA: 0s - loss: 0.0529 - accuracy: 0.0241\n",
      "Epoch 4: saving model to saves\\weights\\weights.h5\n",
      "32/32 [==============================] - 1s 23ms/step - loss: 0.0530 - accuracy: 0.0241\n",
      "Epoch 5/10\n",
      "31/32 [============================>.] - ETA: 0s - loss: 0.0529 - accuracy: 0.0254\n",
      "Epoch 5: saving model to saves\\weights\\weights.h5\n",
      "32/32 [==============================] - 1s 23ms/step - loss: 0.0528 - accuracy: 0.0254\n",
      "Epoch 6/10\n",
      "31/32 [============================>.] - ETA: 0s - loss: 0.0524 - accuracy: 0.0241\n",
      "Epoch 6: saving model to saves\\weights\\weights.h5\n",
      "32/32 [==============================] - 1s 23ms/step - loss: 0.0524 - accuracy: 0.0241\n",
      "Epoch 7/10\n",
      "31/32 [============================>.] - ETA: 0s - loss: 0.0522 - accuracy: 0.0243\n",
      "Epoch 7: saving model to saves\\weights\\weights.h5\n",
      "32/32 [==============================] - 1s 23ms/step - loss: 0.0522 - accuracy: 0.0243\n",
      "Epoch 8/10\n",
      "31/32 [============================>.] - ETA: 0s - loss: 0.0520 - accuracy: 0.0246\n",
      "Epoch 8: saving model to saves\\weights\\weights.h5\n",
      "32/32 [==============================] - 1s 23ms/step - loss: 0.0520 - accuracy: 0.0246\n",
      "Epoch 9/10\n",
      "31/32 [============================>.] - ETA: 0s - loss: 0.0520 - accuracy: 0.0263\n",
      "Epoch 9: saving model to saves\\weights\\weights.h5\n",
      "32/32 [==============================] - 1s 23ms/step - loss: 0.0521 - accuracy: 0.0263\n",
      "Epoch 10/10\n",
      "31/32 [============================>.] - ETA: 0s - loss: 0.0520 - accuracy: 0.0269\n",
      "Epoch 10: saving model to saves\\weights\\weights.h5\n",
      "32/32 [==============================] - 1s 23ms/step - loss: 0.0520 - accuracy: 0.0268\n"
     ]
    }
   ],
   "source": [
    "ae.compile(LEARNING_RATE)\n",
    "ae.train(\n",
    "    x_train[:1000],\n",
    "    batch_size=BATCH_SIZE,\n",
    "    epochs=EPOCHS,\n",
    "    shuffle=SHUFFLE,\n",
    "    run_folder=FOLDER\n",
    ")"
   ],
   "metadata": {
    "collapsed": false,
    "ExecuteTime": {
     "end_time": "2023-12-06T12:09:19.025582800Z",
     "start_time": "2023-12-06T12:09:10.063627200Z"
    }
   },
   "id": "d5f74b0230fa0742"
  }
 ],
 "metadata": {
  "kernelspec": {
   "display_name": "Python 3",
   "language": "python",
   "name": "python3"
  },
  "language_info": {
   "codemirror_mode": {
    "name": "ipython",
    "version": 2
   },
   "file_extension": ".py",
   "mimetype": "text/x-python",
   "name": "python",
   "nbconvert_exporter": "python",
   "pygments_lexer": "ipython2",
   "version": "2.7.6"
  }
 },
 "nbformat": 4,
 "nbformat_minor": 5
}
