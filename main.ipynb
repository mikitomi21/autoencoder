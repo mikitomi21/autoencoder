{
 "cells": [
  {
   "cell_type": "code",
   "execution_count": 1,
   "id": "initial_id",
   "metadata": {
    "collapsed": true,
    "ExecuteTime": {
     "end_time": "2023-11-16T21:30:50.722453Z",
     "start_time": "2023-11-16T21:30:48.546637100Z"
    }
   },
   "outputs": [
    {
     "name": "stdout",
     "output_type": "stream",
     "text": [
      "WARNING:tensorflow:From C:\\Users\\kubas\\AppData\\Local\\Programs\\Python\\Python311\\Lib\\site-packages\\keras\\src\\losses.py:2976: The name tf.losses.sparse_softmax_cross_entropy is deprecated. Please use tf.compat.v1.losses.sparse_softmax_cross_entropy instead.\n"
     ]
    }
   ],
   "source": [
    "import tensorflow\n",
    "import numpy\n",
    "import os\n",
    "from models.VAE import VAE\n",
    "from utils.loaders import load_data"
   ]
  },
  {
   "cell_type": "code",
   "execution_count": 2,
   "outputs": [],
   "source": [
    "FOLDER = 'saves'"
   ],
   "metadata": {
    "collapsed": false,
    "ExecuteTime": {
     "end_time": "2023-11-16T21:30:50.725786900Z",
     "start_time": "2023-11-16T21:30:50.722453Z"
    }
   },
   "id": "2b3f463259610878"
  },
  {
   "cell_type": "code",
   "execution_count": null,
   "outputs": [],
   "source": [
    "(x_train, y_train), (x_test, y_test) = load_data()"
   ],
   "metadata": {
    "collapsed": false
   },
   "id": "1662dd3b40433d25"
  },
  {
   "cell_type": "code",
   "execution_count": 3,
   "outputs": [
    {
     "name": "stdout",
     "output_type": "stream",
     "text": [
      "WARNING:tensorflow:From C:\\Users\\kubas\\AppData\\Local\\Programs\\Python\\Python311\\Lib\\site-packages\\keras\\src\\backend.py:1398: The name tf.executing_eagerly_outside_functions is deprecated. Please use tf.compat.v1.executing_eagerly_outside_functions instead.\n",
      "WARNING:tensorflow:From C:\\Users\\kubas\\AppData\\Local\\Programs\\Python\\Python311\\Lib\\site-packages\\keras\\src\\layers\\normalization\\batch_normalization.py:979: The name tf.nn.fused_batch_norm is deprecated. Please use tf.compat.v1.nn.fused_batch_norm instead.\n"
     ]
    }
   ],
   "source": [
    "vae = VAE(\n",
    "    input_dim=(32,32,1),\n",
    "    encoder_filters=[32,64,64,32],\n",
    "    encoder_kernel_size=[2,3,3,2],\n",
    "    encoder_strides=[1,2,2,1],\n",
    "    decoder_filters=[32,64,64,32],\n",
    "    decoder_kernel_size=[2,3,3,2],\n",
    "    decoder_strides=[1,2,2,1],\n",
    "    z_dim=2\n",
    ")"
   ],
   "metadata": {
    "collapsed": false,
    "ExecuteTime": {
     "end_time": "2023-11-16T21:30:50.979012Z",
     "start_time": "2023-11-16T21:30:50.725786900Z"
    }
   },
   "id": "fde05a958de68ca8"
  },
  {
   "cell_type": "code",
   "execution_count": 4,
   "outputs": [
    {
     "name": "stdout",
     "output_type": "stream",
     "text": [
      "You must install pydot (`pip install pydot`) and install graphviz (see instructions at https://graphviz.gitlab.io/download/) for plot_model to work.\n",
      "You must install pydot (`pip install pydot`) and install graphviz (see instructions at https://graphviz.gitlab.io/download/) for plot_model to work.\n",
      "You must install pydot (`pip install pydot`) and install graphviz (see instructions at https://graphviz.gitlab.io/download/) for plot_model to work.\n"
     ]
    }
   ],
   "source": [
    "def get_mode(folder):\n",
    "    return True\n",
    "    # return os.path.exists(folder + 'weights')\n",
    "\n",
    "if get_mode(FOLDER):\n",
    "    vae.save(FOLDER)\n",
    "else:\n",
    "    vae.load_weights(os.path.join(FOLDER, 'weights/weights.h5'))"
   ],
   "metadata": {
    "collapsed": false,
    "ExecuteTime": {
     "end_time": "2023-11-16T21:30:50.985116400Z",
     "start_time": "2023-11-16T21:30:50.979012Z"
    }
   },
   "id": "1418b076bbb4dbc8"
  },
  {
   "cell_type": "code",
   "execution_count": 5,
   "outputs": [
    {
     "name": "stdout",
     "output_type": "stream",
     "text": [
      "Model: \"model\"\n",
      "_________________________________________________________________\n",
      " Layer (type)                Output Shape              Param #   \n",
      "=================================================================\n",
      " encoder_input (InputLayer)  [(None, 32, 32, 1)]       0         \n",
      "                                                                 \n",
      " conv_layer0 (Conv2D)        (None, 32, 32, 32)        160       \n",
      "                                                                 \n",
      " batch_normalization (Batch  (None, 32, 32, 32)        128       \n",
      " Normalization)                                                  \n",
      "                                                                 \n",
      " leaky_re_lu (LeakyReLU)     (None, 32, 32, 32)        0         \n",
      "                                                                 \n",
      " dropout (Dropout)           (None, 32, 32, 32)        0         \n",
      "                                                                 \n",
      " conv_layer1 (Conv2D)        (None, 16, 16, 64)        18496     \n",
      "                                                                 \n",
      " batch_normalization_1 (Bat  (None, 16, 16, 64)        256       \n",
      " chNormalization)                                                \n",
      "                                                                 \n",
      " leaky_re_lu_1 (LeakyReLU)   (None, 16, 16, 64)        0         \n",
      "                                                                 \n",
      " dropout_1 (Dropout)         (None, 16, 16, 64)        0         \n",
      "                                                                 \n",
      " conv_layer2 (Conv2D)        (None, 8, 8, 64)          36928     \n",
      "                                                                 \n",
      " batch_normalization_2 (Bat  (None, 8, 8, 64)          256       \n",
      " chNormalization)                                                \n",
      "                                                                 \n",
      " leaky_re_lu_2 (LeakyReLU)   (None, 8, 8, 64)          0         \n",
      "                                                                 \n",
      " dropout_2 (Dropout)         (None, 8, 8, 64)          0         \n",
      "                                                                 \n",
      " conv_layer3 (Conv2D)        (None, 8, 8, 32)          8224      \n",
      "                                                                 \n",
      " batch_normalization_3 (Bat  (None, 8, 8, 32)          128       \n",
      " chNormalization)                                                \n",
      "                                                                 \n",
      " leaky_re_lu_3 (LeakyReLU)   (None, 8, 8, 32)          0         \n",
      "                                                                 \n",
      " dropout_3 (Dropout)         (None, 8, 8, 32)          0         \n",
      "                                                                 \n",
      " flatten (Flatten)           (None, 2048)              0         \n",
      "                                                                 \n",
      " encoder_output (Dense)      (None, 2)                 4098      \n",
      "                                                                 \n",
      "=================================================================\n",
      "Total params: 68674 (268.26 KB)\n",
      "Trainable params: 68290 (266.76 KB)\n",
      "Non-trainable params: 384 (1.50 KB)\n",
      "_________________________________________________________________\n"
     ]
    }
   ],
   "source": [
    "vae.encoder.summary()"
   ],
   "metadata": {
    "collapsed": false,
    "ExecuteTime": {
     "end_time": "2023-11-16T21:30:53.221436300Z",
     "start_time": "2023-11-16T21:30:53.203426800Z"
    }
   },
   "id": "9886764d9d5b5724"
  },
  {
   "cell_type": "code",
   "execution_count": 6,
   "outputs": [
    {
     "name": "stdout",
     "output_type": "stream",
     "text": [
      "Model: \"model_1\"\n",
      "_________________________________________________________________\n",
      " Layer (type)                Output Shape              Param #   \n",
      "=================================================================\n",
      " decoder_input (InputLayer)  [(None, 2)]               0         \n",
      "                                                                 \n",
      " dense (Dense)               (None, 2048)              6144      \n",
      "                                                                 \n",
      " reshape (Reshape)           (None, 8, 8, 32)          0         \n",
      "                                                                 \n",
      " conv_layer0 (Conv2DTranspo  (None, 8, 8, 32)          4128      \n",
      " se)                                                             \n",
      "                                                                 \n",
      " batch_normalization_4 (Bat  (None, 8, 8, 32)          128       \n",
      " chNormalization)                                                \n",
      "                                                                 \n",
      " leaky_re_lu_4 (LeakyReLU)   (None, 8, 8, 32)          0         \n",
      "                                                                 \n",
      " dropout_4 (Dropout)         (None, 8, 8, 32)          0         \n",
      "                                                                 \n",
      " conv_layer1 (Conv2DTranspo  (None, 16, 16, 64)        18496     \n",
      " se)                                                             \n",
      "                                                                 \n",
      " batch_normalization_5 (Bat  (None, 16, 16, 64)        256       \n",
      " chNormalization)                                                \n",
      "                                                                 \n",
      " leaky_re_lu_5 (LeakyReLU)   (None, 16, 16, 64)        0         \n",
      "                                                                 \n",
      " dropout_5 (Dropout)         (None, 16, 16, 64)        0         \n",
      "                                                                 \n",
      " conv_layer2 (Conv2DTranspo  (None, 32, 32, 64)        36928     \n",
      " se)                                                             \n",
      "                                                                 \n",
      " batch_normalization_6 (Bat  (None, 32, 32, 64)        256       \n",
      " chNormalization)                                                \n",
      "                                                                 \n",
      " leaky_re_lu_6 (LeakyReLU)   (None, 32, 32, 64)        0         \n",
      "                                                                 \n",
      " dropout_6 (Dropout)         (None, 32, 32, 64)        0         \n",
      "                                                                 \n",
      " conv_layer3 (Conv2DTranspo  (None, 32, 32, 32)        8224      \n",
      " se)                                                             \n",
      "                                                                 \n",
      " activation (Activation)     (None, 32, 32, 32)        0         \n",
      "                                                                 \n",
      "=================================================================\n",
      "Total params: 74560 (291.25 KB)\n",
      "Trainable params: 74240 (290.00 KB)\n",
      "Non-trainable params: 320 (1.25 KB)\n",
      "_________________________________________________________________\n"
     ]
    }
   ],
   "source": [
    "vae.decoder.summary()"
   ],
   "metadata": {
    "collapsed": false,
    "ExecuteTime": {
     "end_time": "2023-11-16T21:31:29.052220100Z",
     "start_time": "2023-11-16T21:31:29.031398200Z"
    }
   },
   "id": "eceb7be76b6733c1"
  },
  {
   "cell_type": "code",
   "execution_count": null,
   "outputs": [],
   "source": [
    "LEARNING_RATE = 0.001\n",
    "BATCH_SIZE = 32\n",
    "EPOCHS = 10\n",
    "SHUFFLE = True"
   ],
   "metadata": {
    "collapsed": false
   },
   "id": "ce7fdd9a3f427326"
  },
  {
   "cell_type": "code",
   "execution_count": null,
   "outputs": [],
   "source": [
    "vae.compile(LEARNING_RATE)\n",
    "vae.train(\n",
    "    x_train,\n",
    "    batch_size=BATCH_SIZE,\n",
    "    epochs=EPOCHS,\n",
    "    shuffle=SHUFFLE\n",
    ")"
   ],
   "metadata": {
    "collapsed": false
   },
   "id": "d5f74b0230fa0742"
  }
 ],
 "metadata": {
  "kernelspec": {
   "display_name": "Python 3",
   "language": "python",
   "name": "python3"
  },
  "language_info": {
   "codemirror_mode": {
    "name": "ipython",
    "version": 2
   },
   "file_extension": ".py",
   "mimetype": "text/x-python",
   "name": "python",
   "nbconvert_exporter": "python",
   "pygments_lexer": "ipython2",
   "version": "2.7.6"
  }
 },
 "nbformat": 4,
 "nbformat_minor": 5
}
